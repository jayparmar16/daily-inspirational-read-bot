{
 "metadata": {
  "language_info": {
   "codemirror_mode": {
    "name": "ipython",
    "version": 3
   },
   "file_extension": ".py",
   "mimetype": "text/x-python",
   "name": "python",
   "nbconvert_exporter": "python",
   "pygments_lexer": "ipython3",
   "version": "3.6.2-final"
  },
  "orig_nbformat": 2,
  "kernelspec": {
   "name": "python3",
   "display_name": "Python 3.6.2 64-bit",
   "metadata": {
    "interpreter": {
     "hash": "c4b8a5cd4d2c5d7061c150e0447703443a731ed4e7447d33c0439f6def42baf3"
    }
   }
  }
 },
 "nbformat": 4,
 "nbformat_minor": 2,
 "cells": [
  {
   "cell_type": "code",
   "execution_count": 1,
   "metadata": {},
   "outputs": [],
   "source": [
    "### IMPORTING LIBRARIES\n",
    "import bs4\n",
    "import pandas as pd\n",
    "import requests\n",
    "import re\n",
    "import string\n",
    "import telegram"
   ]
  },
  {
   "cell_type": "code",
   "execution_count": 37,
   "metadata": {},
   "outputs": [],
   "source": [
    "### GETTING LINK AND CREATING BS4 OBJECT\n",
    "res = requests.get(\"http://www.dailytenminutes.com/p/short-stories.html\")\n",
    "res.raise_for_status() # checking if request was successful\n",
    "readsSoup = bs4.BeautifulSoup(res.text,'html.parser')"
   ]
  },
  {
   "cell_type": "code",
   "execution_count": 39,
   "metadata": {
    "tags": []
   },
   "outputs": [],
   "source": [
    "### GETTING ALL LINKS\n",
    "links = []\n",
    "for a in readsSoup.find_all('a',href=True): #Finding all links from bs4 object\n",
    "    if a.text:\n",
    "        links.append(a['href'])\n",
    "l = len(links)\n",
    "#print(l)\n",
    "\n",
    "### USING REGEX TO FIND LINKS FOR STORIES\n",
    "def cleaningLinks(L):\n",
    "    rlinks = []\n",
    "    for i in links:\n",
    "        linkreg = re.search('[a-zA-Z.]+/\\d+/\\d+',i)\n",
    "        if linkreg!=None:\n",
    "            rlinks.append(i)\n",
    "    return rlinks\n",
    "\n",
    "a = cleaningLinks(links)\n",
    "\n",
    "### STORING LINKS TO CSV WITH 'DONE' COLUMN WITH DEFAULT VALUE 0\n",
    "def csvLinks(links):\n",
    "    df = pd.DataFrame(links,columns=[\"Links\"])\n",
    "    df[\"Done\"] = 0\n",
    "    df.to_csv(\"links.csv\",index = False)\n",
    "csvLinks(a)\n",
    "\n"
   ]
  },
  {
   "cell_type": "code",
   "execution_count": 40,
   "metadata": {
    "tags": []
   },
   "outputs": [
    {
     "output_type": "stream",
     "name": "stdout",
     "text": [
      "0 http://www.dailytenminutes.com/2017/04/in-class-i-teach-for-adults-i-recently.html 0\n"
     ]
    }
   ],
   "source": [
    "### EXTRACTING LINK FROM CSV AND MARKING IT DONE \n",
    "def getLink():\n",
    "    df = pd.read_csv(\"links.csv\")\n",
    "    for index,row in df.iterrows():\n",
    "        if row['Done'] == 1:\n",
    "            continue\n",
    "        else:\n",
    "            print(index,row['Links'],row['Done'])\n",
    "            df.loc[index,\"Done\"] = 1\n",
    "            df.to_csv(\"links.csv\", index=False)\n",
    "            return row['Links']\n",
    "            break\n",
    "a = getLink()\n",
    "#print(a)"
   ]
  },
  {
   "cell_type": "code",
   "execution_count": 41,
   "metadata": {},
   "outputs": [],
   "source": [
    "### MINE THE STORY FROM EXTRACTED LINK\n",
    "bookres = requests.get(a)\n",
    "res.raise_for_status()\n",
    "linksSoup = bs4.BeautifulSoup(bookres.text,'html.parser')\n",
    "L = []\n",
    "def getStory(): \n",
    "    p = linksSoup.findAll('article')\n",
    "    for r in p:\n",
    "        L.append(r.get_text())\n",
    "getStory()\n"
   ]
  },
  {
   "cell_type": "code",
   "execution_count": 42,
   "metadata": {
    "tags": []
   },
   "outputs": [
    {
     "output_type": "stream",
     "name": "stdout",
     "text": [
      "<class 'str'>\n"
     ]
    }
   ],
   "source": [
    "### CLEANING THE STORY\n",
    "def cleanStory(L):\n",
    "    f = re.sub(r'\\\\n+|\\\\| Read 300+ stories on DailyTenMinutes.com',\" \",L[0]) #removing all \\n\n",
    "    #re.sub(r' Read 300+ stories on DailyTenMinutes.com ',\" \",p)\n",
    "    f1 = \" \".join(f.split())\n",
    "    flag = True\n",
    "    while flag == True:    # removing the intro part\n",
    "        for i in range(len(f1)//2):\n",
    "            if f1[i] == \".\" and f1[i-1] == \".\" and f1[i-2] == \".\": #Pattern\n",
    "                p = f1[i+1:len(f1)]\n",
    "                flag = False\n",
    "    return p\n",
    "a = cleanStory(L)\n",
    "print(type(a))"
   ]
  },
  {
   "cell_type": "code",
   "execution_count": 43,
   "metadata": {},
   "outputs": [],
   "source": [
    "my_token = '1609959829:AAGB6Uvtbhv82EOM2ceevKcl5befJSWeIQI'\n",
    "\n",
    "def send(msg, chat_id, token=my_token):\n",
    "    bot = telegram.Bot(token=token)\n",
    "    bot.sendMessage(chat_id=chat_id, text=msg)\n",
    "send(a,1211116531,my_token)"
   ]
  },
  {
   "cell_type": "code",
   "execution_count": null,
   "metadata": {},
   "outputs": [],
   "source": []
  }
 ]
}