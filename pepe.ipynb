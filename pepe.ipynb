{
 "metadata": {
  "language_info": {
   "codemirror_mode": {
    "name": "ipython",
    "version": 3
   },
   "file_extension": ".py",
   "mimetype": "text/x-python",
   "name": "python",
   "nbconvert_exporter": "python",
   "pygments_lexer": "ipython3",
   "version": "3.6.2-final"
  },
  "orig_nbformat": 2,
  "kernelspec": {
   "name": "python_defaultSpec_1600925994352",
   "display_name": "Python 3.6.2 64-bit"
  }
 },
 "nbformat": 4,
 "nbformat_minor": 2,
 "cells": [
  {
   "cell_type": "code",
   "execution_count": 1,
   "metadata": {},
   "outputs": [],
   "source": [
    "### IMPORTING LIBRARIES\n",
    "import bs4\n",
    "import pandas as pd\n",
    "import requests\n",
    "import re\n",
    "import string"
   ]
  },
  {
   "cell_type": "code",
   "execution_count": 2,
   "metadata": {
    "tags": []
   },
   "outputs": [],
   "source": [
    "### BS4 oject\n",
    "res = requests.get(\"http://www.dailytenminutes.com/p/short-stories.html\")\n",
    "res.raise_for_status() # checking if request was successful\n",
    "readsSoup = bs4.BeautifulSoup(res.text,'html.parser')\n",
    "\n",
    "\n",
    "links = []\n",
    "### Getting all links\n",
    "for a in readsSoup.find_all('a',href=True):\n",
    "    if a.text:\n",
    "        links.append(a['href'])\n",
    "l = len(links)\n",
    "#print(l)\n",
    "\n",
    "### Using regex to find all links for stories\n",
    "def cleaningLinks(L):\n",
    "    rlinks = []\n",
    "    for i in links:\n",
    "        linkreg = re.search('[a-zA-Z.]+/\\d+/\\d+',i)\n",
    "        if linkreg!=None:\n",
    "            rlinks.append(i)\n",
    "    return rlinks\n",
    "\n",
    "a = cleaningLinks(links)\n",
    "\n",
    "### Storing all links to CSV\n",
    "def csvLinks(links):\n",
    "    df = pd.DataFrame(links,columns=[\"h\"])\n",
    "    df[\"Done\"] = 0\n",
    "    df.to_csv(\"links.csv\",index = False)\n",
    "csvLinks(a)\n",
    "\n",
    "\n",
    "\n"
   ]
  },
  {
   "cell_type": "code",
   "execution_count": 3,
   "metadata": {
    "tags": []
   },
   "outputs": [
    {
     "output_type": "stream",
     "name": "stdout",
     "text": "0 http://www.dailytenminutes.com/2017/04/in-class-i-teach-for-adults-i-recently.html 0\n"
    }
   ],
   "source": [
    "### Extract link from csv file and mark it as done\n",
    "def getLink():\n",
    "    df = pd.read_csv(\"links.csv\")\n",
    "    for index,row in df.iterrows():\n",
    "        if row['Done'] == 1:\n",
    "            continue\n",
    "        else:\n",
    "            print(index,row['h'],row['Done'])\n",
    "            df.loc[index,\"Done\"] = 1\n",
    "            df.to_csv(\"links.csv\", index=False)\n",
    "            return row['h']\n",
    "            break\n",
    "a = getLink()\n"
   ]
  },
  {
   "cell_type": "code",
   "execution_count": 5,
   "metadata": {
    "tags": []
   },
   "outputs": [
    {
     "output_type": "stream",
     "name": "stdout",
     "text": "In a class I teach for adults, I recently did the \"unpardonable.\" I gave the class homework! The assignment was to \"go to someone you love within the next week and tell them you love them. It has to be someone you have never said those words to before or at least haven't shared those words with for a long time.\" Now that doesn't sound like a very tough assignment, until you stop to realized that most of the men in that group were over 35 and were raised in the generation of men that were taught that expressing emotions is not \"macho.\" Showing feelings or crying (heaven forbid!) was just not done. So this was a very threatening assignment for some. At the beginning of our next class, I asked if someone wanted to share what happened when they told someone they loved them. I fully expected one of the women to volunteer, as was usually the case, but on this evening one of the men raised his hand. He appeared quite moved and a bit shaken. As he unfolded out of his chair (all 6'2\" of him), he began by saying, \"Dennis, I was quite angry with you last week when you gave us this assignment. I didn't feel that I had anyone to say those words to, and besides, who were you to tell me to do something that personal? But as I began driving home my conscience started talking to me. It was telling me that I knew exactly who I needed to say 'I love you' to. You see, five years ago, my father and I had a vicious disagreement and really never resolved it since that time. We avoided seeing each other unless we absolutely had to at family gatherings. But even then, we hardly spoke to each other. So, last Tuesday by the time I got home I had convinced myself I was going to tell my father I loved him. \"It's weird, but just making that decision seemed to lift a heavy load off my chest. \"When I got home, I rushed into the house to tell my wife what I was going to do. She was already in bed, but I woke her up anyway. When I told her, she didn't just get out of bed, she catapulted out and hugged my, and for the first time in our married life she saw me cry. We stayed up half the night drinking coffee and talking. It was great! \"The next morning I was up bright and early. I was so excited I could hardly sleep. I got to the office early and accomplished more in two hours than I had the whole day before. “At 9:00 I called my dad to see if I could come over after work. When he answered the phone, I just said, ‘Dad, can I come over after work tonight? I have something to tell you.’ My dad responded with a grumpy, ‘Now what?’ I assured him it wouldn’t take long, so he finally agreed.“At 5:30, I was at my parents’ house ringing the doorbell, praying that Dad would answer the door. I was afraid if Mom answered that I would chicken out and tell her instead. But as luck would have it, Dad did answer the door. “I didn’t waste any time—I took one step in the door and said, ‘Dad, I just came over to tell you that I love you.’“It was as if a transformation came over my dad. Before my eyes his face softened, the wrinkles seemed to disappear and he began to cry. He reached out and hugged me and said, ‘I love you too, son, but I’ve never been able to say it.’“It was such a precious moment I didn’t want to move. Mom walked by with tears in her eyes. I just waved and blew her a kiss. Dad and I hugged for a moment longer and then I left. I hadn’t felt that great in a long time. “But that’s not even my point. Two days after that visit, my dad, who had heart problems but didn’t tell me, had an attack and ended up in the hospital, unconscious. I don’t know if he’ll make it.“So my message to all of you in this class is this: Don’t wait to do the things you know need to be done. What if I had waited to tell my dad—maybe I will never get the chance again! Take the time to do what you need to do and do it now!” Dennis E. Mannering\n"
    }
   ],
   "source": [
    "### Mine the story from the extracted link\n",
    "bookres = requests.get(a)\n",
    "res.raise_for_status()\n",
    "linksSoup = bs4.BeautifulSoup(bookres.text,'html.parser')\n",
    "L = []\n",
    "def getStory(): \n",
    "    p = linksSoup.findAll('article')\n",
    "    for r in p:\n",
    "        L.append(r.get_text())\n",
    "getStory()\n",
    "\n",
    "### Cleaning/trimming the story\n",
    "def cleanStory(L):\n",
    "    f = re.sub(r'\\\\n+|\\\\',\" \",L[0]) #removing all \\n\n",
    "    f1 = \" \".join(f.split())\n",
    "    flag = True\n",
    "    while flag == True:    # removing the intro part\n",
    "        for i in range(len(f1)//2):\n",
    "            if f1[i] == \".\" and f1[i-1] == \".\" and f1[i-2] == \".\":\n",
    "                p = f1[i+1:len(f1)]\n",
    "                flag = False\n",
    "    return p\n",
    "a = cleanStory(L)\n",
    "print(a)"
   ]
  },
  {
   "cell_type": "code",
   "execution_count": null,
   "metadata": {},
   "outputs": [],
   "source": []
  }
 ]
}